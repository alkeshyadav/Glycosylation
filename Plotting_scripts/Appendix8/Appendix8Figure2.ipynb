{
 "cells": [
  {
   "cell_type": "code",
   "execution_count": 1,
   "metadata": {},
   "outputs": [],
   "source": [
    "import matplotlib.pyplot as plt\n",
    "import numpy as np\n",
    "import matplotlib as mpl"
   ]
  },
  {
   "cell_type": "code",
   "execution_count": 5,
   "metadata": {},
   "outputs": [],
   "source": [
    "d11 = np.genfromtxt('Initial_conditions11.txt')\n",
    "d12 = np.genfromtxt('Initial_conditions12.txt')\n",
    "d21 = np.genfromtxt('Initial_conditions21.txt')\n",
    "d22 = np.genfromtxt('Initial_conditions22.txt')"
   ]
  },
  {
   "cell_type": "code",
   "execution_count": 8,
   "metadata": {},
   "outputs": [],
   "source": [
    "color1 = (107/256,76/256,154/256)"
   ]
  },
  {
   "cell_type": "code",
   "execution_count": 27,
   "metadata": {},
   "outputs": [
    {
     "name": "stderr",
     "output_type": "stream",
     "text": [
      "<ipython-input-27-db0c87831eae>:5: MatplotlibDeprecationWarning: Support for setting the 'text.latex.preamble' or 'pgf.preamble' rcParam to a list of strings is deprecated since 3.3 and will be removed two minor releases later; set it to a single string instead.\n",
      "  mpl.rcParams['text.latex.preamble'] = [r'\\usepackage{sfmath} \\boldmath']\n"
     ]
    },
    {
     "data": {
      "image/png": "[encoded data removed]",
      "text/plain": [
       "<Figure size 576x360 with 1 Axes>"
      ]
     },
     "metadata": {
      "needs_background": "light"
     },
     "output_type": "display_data"
    }
   ],
   "source": [
    "mpl.rcParams['axes.linewidth'] = 2 \n",
    "plt.rcParams['text.usetex'] = True\n",
    "mpl.rc('font', weight='bold')\n",
    "fig = plt.figure(figsize=(8,5))\n",
    "mpl.rcParams['text.latex.preamble'] = [r'\\usepackage{sfmath} \\boldmath']\n",
    "\n",
    "line = plt.plot(d11,'o', linestyle='',\n",
    "                 markerfacecolor='white',markeredgewidth=2,\n",
    "                 label = 'Human Neutrophils',linewidth = '2',\n",
    "                 markersize = '8',color = color1)\n",
    "\n",
    "\n",
    "plt.ylabel(r'$\\bar{D}$',fontsize = 20)\n",
    "plt.xlabel('Initial conditions', fontsize =20)\n",
    "plt.gca().spines['right'].set_visible(False)\n",
    "plt.gca().spines['top'].set_visible(False)\n",
    "plt.tick_params(axis='both', which='major', labelsize=20)\n",
    "\n",
    "plt.savefig('initial_condne1nc1.png',format='png',dpi = 400 )"
   ]
  },
  {
   "cell_type": "code",
   "execution_count": null,
   "metadata": {},
   "outputs": [],
   "source": []
  }
 ],
 "metadata": {
  "kernelspec": {
   "display_name": "Python 3",
   "language": "python",
   "name": "python3"
  },
  "language_info": {
   "codemirror_mode": {
    "name": "ipython",
    "version": 3
   },
   "file_extension": ".py",
   "mimetype": "text/x-python",
   "name": "python",
   "nbconvert_exporter": "python",
   "pygments_lexer": "ipython3",
   "version": "3.8.5"
  }
 },
 "nbformat": 4,
 "nbformat_minor": 4
}
