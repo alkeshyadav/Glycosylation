{
 "cells": [
  {
   "cell_type": "code",
   "execution_count": 1,
   "metadata": {},
   "outputs": [],
   "source": [
    "import numpy as np\n",
    "from sklearn.mixture import GaussianMixture as GMM\n",
    "import matplotlib.pyplot as plt\n",
    "from math import exp,pi,sqrt,inf,log,nan\n",
    "import pickle\n",
    "import pandas as pd\n",
    "import matplotlib as mpl"
   ]
  },
  {
   "cell_type": "code",
   "execution_count": 2,
   "metadata": {},
   "outputs": [
    {
     "data": {
      "text/plain": [
       "Text(0.5, 1.0, 'tcells')"
      ]
     },
     "execution_count": 2,
     "metadata": {},
     "output_type": "execute_result"
    },
    {
     "data": {
      "image/png": "[encoded data removed]",
      "text/plain": [
       "<Figure size 432x288 with 1 Axes>"
      ]
     },
     "metadata": {
      "needs_background": "light"
     },
     "output_type": "display_data"
    }
   ],
   "source": [
    "x = pd.read_csv('../Data/Glycan_profile/ms_data/human_tcells1.txt',delimiter = '\\t')\n",
    "x_mass = x['Centroid Mass'].to_numpy()\n",
    "x_intensity = x['Relative Intensity'].to_numpy()\n",
    "plt.plot(x_mass,x_intensity)\n",
    "plt.xlabel('m/z')\n",
    "plt.ylabel('Relative Intensity')\n",
    "plt.title('tcells')"
   ]
  },
  {
   "cell_type": "code",
   "execution_count": 3,
   "metadata": {},
   "outputs": [],
   "source": [
    "# Binning \n",
    "n_bins = 180\n",
    "m_lowest = 500\n",
    "m_highest = 5000\n",
    "l_bin = (m_highest - m_lowest)/n_bins\n",
    "\n",
    "mass = np.zeros(n_bins,)\n",
    "Intensity = np.zeros(n_bins,)\n",
    "\n",
    "mass[0] = m_lowest + l_bin/2\n",
    "for i in range(n_bins):\n",
    "    m_low = mass[i] - l_bin/2\n",
    "    m_high = mass[i] + l_bin/2\n",
    "    \n",
    "    mask1 = x_mass[:] >= m_low\n",
    "    mask2 = x_mass[:] <  m_high\n",
    "    mask = np.all([mask1,mask2],0)\n",
    "    \n",
    "    if np.any(mask):\n",
    "        Intensity[i] = x_intensity[mask].max()\n",
    "    else:\n",
    "        Intensity[i] = 0\n",
    "        \n",
    "    if i != n_bins-1:\n",
    "        mass[i+1] = mass[i] + l_bin"
   ]
  },
  {
   "cell_type": "code",
   "execution_count": 4,
   "metadata": {},
   "outputs": [],
   "source": [
    "# Defining the probability of am/z value being glycan\n",
    "p = np.round(1-np.exp(-Intensity/Intensity.max()),2)\n",
    "\n",
    "# Generating population of glycans\n",
    "N_samples = 1000\n",
    "Ns        = Intensity.size\n",
    "\n",
    "Imax = 100\n",
    "I = Imax* Intensity/Intensity.max()\n",
    "#pop = np.zeros(Ns)\n",
    "\n",
    "samples = np.empty(0)\n",
    "for i in range(Ns):\n",
    "    pop = 0\n",
    "    for j in range(N_samples):\n",
    "        if (np.random.rand() <= p[i]):\n",
    "            pop += np.random.poisson(I[i],1)\n",
    "            \n",
    "    v_append = i*np.ones(int(pop),)\n",
    "    samples  = np.append(samples,v_append)\n",
    "    \n",
    "samples = samples.reshape(-1,1)   "
   ]
  },
  {
   "cell_type": "code",
   "execution_count": 5,
   "metadata": {},
   "outputs": [],
   "source": [
    "prob = np.zeros(180,)\n",
    "for i in range(180):\n",
    "    prob[i] = np.size(samples[samples == i])\n",
    "prob = prob/(prob.sum())   "
   ]
  },
  {
   "cell_type": "code",
   "execution_count": 6,
   "metadata": {},
   "outputs": [],
   "source": [
    "f = lambda x,mu,sigma: 1/sqrt(2*pi*sigma**2) * exp(-(x-mu)**2/(2*sigma**2))  \n",
    "\n",
    "def Dkl(p,q):\n",
    "    mask = p >= 1e-10\n",
    "    return np.sum(p[mask] * np.log(p[mask]/q[mask]))\n",
    "\n",
    "\n",
    "def g_func(x,p,w,mu,sigma):\n",
    "    Nx = np.size(x)\n",
    "    Nc = np.size(mu)\n",
    "    g_temp = np.zeros(Nx,)\n",
    "    for i in range(Nx):\n",
    "        fj = np.zeros(Nc,)\n",
    "        for j in range(Nc):\n",
    "            fj[j] = w[j]*f(i,mu[j],sigma[j])\n",
    "        g_temp[i] = p[i]*np.log(np.sum(fj))\n",
    "    return g_temp.sum()\n",
    "\n",
    "def Q_func(x,theta,theta_hat,Nc,p):\n",
    "    Nx = np.size(x)\n",
    "    w_hat = theta_hat[:Nc]\n",
    "    mu_hat = theta_hat[Nc:2*Nc]\n",
    "    sigma_hat = theta_hat[2*Nc:3*Nc]\n",
    "    \n",
    "    w = theta[:Nc]\n",
    "    mu = theta[Nc:2*Nc]\n",
    "    sigma = theta[2*Nc:3*Nc]\n",
    "    \n",
    "    z_hat = z_comp(x,w_hat,mu_hat,sigma_hat) \n",
    "    \n",
    "    q = np.zeros([Nx,Nc])\n",
    "    for xi in x:\n",
    "        for i in range(Nc):\n",
    "            q[xi,i] = p[xi]*z_hat[xi,i]*log(w[i]*f(xi,mu[i],sigma[i])/z_hat[xi,i])\n",
    "    \n",
    "    return np.sum(q)     \n",
    "\n",
    "# Random initial conditions\n",
    "def random_initial(Nc,Nx):\n",
    "    w = np.random.uniform(0,1,[Nc,])\n",
    "    mu = np.random.uniform(0,Nx,[Nc,])\n",
    "    sigma = np.random.uniform(0.1,sqrt(Nx),[Nc,])\n",
    "    return w/w.sum(),mu,sigma\n",
    "  \n",
    "def z_comp(x,w,mu,sigma):\n",
    "    Nx = np.size(x)\n",
    "    Nc = np.size(mu)\n",
    "    z_hat = np.zeros([Nx,Nc])\n",
    "    for i in range(Nx):\n",
    "        for j in range(Nc):\n",
    "            z_hat[i,j]  = w[j]*f(i,mu[j],sigma[j])\n",
    "        v  = z_hat[i,:].sum()\n",
    "        if v != 0: \n",
    "            z_hat[i,:] = z_hat[i,:]/v\n",
    "        else:\n",
    "            z_hat[i,:] = 1/Nc\n",
    "    return z_hat\n",
    "\n",
    "def get_prob(w,mu,sigma,prob):\n",
    "    Nx = np.size(prob)\n",
    "    Nc = np.size(mu)\n",
    "    p_gauss = np.zeros(Nx,)\n",
    "    for i in range(Nx):\n",
    "        temp = np.zeros(Nc,)\n",
    "        for j in range(Nc):\n",
    "            temp[j] = w[j]*f(i,mu[j],sigma[j])\n",
    "        p_gauss[i] = np.sum(temp)\n",
    "    return p_gauss"
   ]
  },
  {
   "cell_type": "code",
   "execution_count": 7,
   "metadata": {},
   "outputs": [],
   "source": [
    "def EM_optim(Nc,p,Ni_max=50,obj_threshold=1e-5,sigma_cut =1):\n",
    "    Nx = np.size(p)\n",
    "    w, mu, sigma = random_initial(Nc,Nx)\n",
    "    x = np.arange(Nx)\n",
    "    \n",
    "    z_hat = z_comp(x,w,mu,sigma)\n",
    "    while np.any(np.isnan(z_hat)):\n",
    "        w, mu, sigma = random_initial(Nc,Nx)\n",
    "        z_hat = z_comp(x,w,mu,sigma)\n",
    "    \n",
    "    counter = 0\n",
    "#    obj_func = inf*np.ones(int(Ni_max),)\n",
    "    obj_func = inf\n",
    "    obj_func_increment = inf\n",
    "   \n",
    "    while(counter < Ni_max):                #and obj_func_increment >= obj_threshold):\n",
    "        z_hat = z_comp(x,w,mu,sigma)\n",
    "        \n",
    "        for i in range(Nc):\n",
    "            w[i] = np.sum(z_hat[:,i]*p[:]) \n",
    "            \n",
    "            func = lambda mu : np.sum(z_hat[:,i]*p[:]*(x - mu)**2)\n",
    "            mu0 = 0\n",
    "            try:\n",
    "                ls_result =  ls(func,mu0)\n",
    "                mu[i] = ls_result['x']\n",
    "            except:\n",
    "                mu[i] = nan\n",
    "            sigma[i] = sqrt(np.sum(z_hat[:,i]*p[:]*(x - mu[i])**2/np.sum(z_hat[:,i]*p[:])))\n",
    "            if sigma[i]<= sigma_cut:\n",
    "                sigma[i] = sigma_cut\n",
    "        w = w/w.sum()        \n",
    "        obj_func_increment =  abs(obj_func - g_func(x,p,w,mu,sigma))\n",
    "        obj_func =  g_func(x,p,w,mu,sigma)\n",
    "        counter += 1\n",
    "    return w,mu,sigma,obj_func                        "
   ]
  },
  {
   "cell_type": "code",
   "execution_count": 9,
   "metadata": {},
   "outputs": [
    {
     "name": "stdout",
     "output_type": "stream",
     "text": [
      "0\n",
      "1\n",
      "2\n",
      "3\n",
      "4\n",
      "5\n",
      "6\n",
      "7\n",
      "8\n",
      "9\n",
      "10\n",
      "11\n",
      "12\n",
      "13\n",
      "14\n",
      "15\n",
      "16\n",
      "17\n",
      "18\n",
      "19\n"
     ]
    }
   ],
   "source": [
    "Nc = 20\n",
    "D = np.zeros(Nc,)\n",
    "w = [np.zeros(1)]*20\n",
    "mu = [np.zeros(1)]*20\n",
    "sigma = [np.zeros(1)]*20\n",
    "\n",
    "for nc in range(Nc):\n",
    "    print(nc)\n",
    "    wj = [np.zeros(nc)]*200\n",
    "    muj = [np.zeros(nc)]*200\n",
    "    sigmaj = [np.zeros(nc)]*200\n",
    "    obj_func = np.zeros(200,)\n",
    "    \n",
    "    for j in range(200):\n",
    "        wjj,mujj,sigmajj,obj_func[j] = EM_optim(nc+1,prob)\n",
    "#        print(obj_func)\n",
    "#        obj_func[j] = obj_funcj\n",
    "        wj[j] = wjj\n",
    "        muj[j] = mujj\n",
    "        sigmaj[j] = sigmajj\n",
    "    max_j = int(np.where(obj_func == np.nanmax(obj_func))[0][0])\n",
    "    \n",
    "    w[nc] = wj[max_j]\n",
    "    mu[nc] = muj[max_j]\n",
    "    sigma[nc] = sigmaj[max_j]\n",
    "    \n",
    "    p_gauss = get_prob(w[nc],mu[nc],sigma[nc],prob)\n",
    "    D[nc] = Dkl(prob,p_gauss)\n",
    "    "
   ]
  },
  {
   "cell_type": "code",
   "execution_count": 21,
   "metadata": {},
   "outputs": [],
   "source": [
    "np.savetxt('Dkl_tcells',D)"
   ]
  },
  {
   "cell_type": "code",
   "execution_count": 11,
   "metadata": {},
   "outputs": [],
   "source": [
    "name = 'GMM_tcells_200initialpoints'\n",
    "with open(name+'.pkl', 'wb') as output:\n",
    "            pickle.dump([w,mu,sigma], output, pickle.HIGHEST_PROTOCOL)   "
   ]
  },
  {
   "cell_type": "code",
   "execution_count": null,
   "metadata": {},
   "outputs": [],
   "source": []
  }
 ],
 "metadata": {
  "kernelspec": {
   "display_name": "Python 3",
   "language": "python",
   "name": "python3"
  },
  "language_info": {
   "codemirror_mode": {
    "name": "ipython",
    "version": 3
   },
   "file_extension": ".py",
   "mimetype": "text/x-python",
   "name": "python",
   "nbconvert_exporter": "python",
   "pygments_lexer": "ipython3",
   "version": "3.7.6"
  }
 },
 "nbformat": 4,
 "nbformat_minor": 4
}
